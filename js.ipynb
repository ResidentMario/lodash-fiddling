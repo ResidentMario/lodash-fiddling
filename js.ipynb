{
 "cells": [
  {
   "cell_type": "code",
   "execution_count": 3,
   "metadata": {},
   "outputs": [],
   "source": [
    "const _ = require('lodash');"
   ]
  },
  {
   "cell_type": "markdown",
   "metadata": {},
   "source": [
    "## chunk\n",
    "\n",
    "Splits a list of values into quantiles. Equivalent to `np.array_split` in Python. Useful, the native equivalent is a curmudgeon."
   ]
  },
  {
   "cell_type": "code",
   "execution_count": 46,
   "metadata": {},
   "outputs": [
    {
     "data": {
      "text/plain": [
       "[ [ 'a' ], [ 'b' ], [ 'c' ] ]"
      ]
     },
     "execution_count": 46,
     "metadata": {},
     "output_type": "execute_result"
    }
   ],
   "source": [
    "_.chunk(['a', 'b', 'c'], size=1)"
   ]
  },
  {
   "cell_type": "code",
   "execution_count": 6,
   "metadata": {},
   "outputs": [
    {
     "data": {
      "text/plain": [
       "[ [ 'a', 'b' ], [ 'c' ] ]"
      ]
     },
     "execution_count": 6,
     "metadata": {},
     "output_type": "execute_result"
    }
   ],
   "source": [
    "_.chunk(['a', 'b', 'c'], size=2)"
   ]
  },
  {
   "cell_type": "code",
   "execution_count": 73,
   "metadata": {},
   "outputs": [
    {
     "data": {
      "text/plain": [
       "[ [ 'a', 'b', 'c' ] ]"
      ]
     },
     "execution_count": 73,
     "metadata": {},
     "output_type": "execute_result"
    }
   ],
   "source": [
    "_.chunk(['a', 'b', 'c'], size=3)"
   ]
  },
  {
   "cell_type": "code",
   "execution_count": 67,
   "metadata": {},
   "outputs": [],
   "source": [
    "function chunk(vals, size=1) {\n",
    "    if (size >= vals.length) {\n",
    "        return [vals];\n",
    "    } else {\n",
    "        return (\n",
    "            [...Array(Math.round(vals.length / size)).keys()]\n",
    "                .map(i => [i * size, (i + 1 * size)]))  // generate index pairs\n",
    "                .map(idxs => vals.slice(idxs[0], idxs[1]))\n",
    "    }\n",
    "}"
   ]
  },
  {
   "cell_type": "code",
   "execution_count": 69,
   "metadata": {},
   "outputs": [
    {
     "data": {
      "text/plain": [
       "[ [ 'a' ], [ 'b' ], [ 'c' ] ]"
      ]
     },
     "execution_count": 69,
     "metadata": {},
     "output_type": "execute_result"
    }
   ],
   "source": [
    "chunk(['a', 'b', 'c'], size=1)"
   ]
  },
  {
   "cell_type": "code",
   "execution_count": 70,
   "metadata": {},
   "outputs": [
    {
     "data": {
      "text/plain": [
       "[ [ 'a', 'b' ], [ 'c' ] ]"
      ]
     },
     "execution_count": 70,
     "metadata": {},
     "output_type": "execute_result"
    }
   ],
   "source": [
    "chunk(['a', 'b', 'c'], size=2)"
   ]
  },
  {
   "cell_type": "code",
   "execution_count": 71,
   "metadata": {},
   "outputs": [
    {
     "data": {
      "text/plain": [
       "[ [ 'a', 'b', 'c' ] ]"
      ]
     },
     "execution_count": 71,
     "metadata": {},
     "output_type": "execute_result"
    }
   ],
   "source": [
    "chunk(['a', 'b', 'c'], size=3)"
   ]
  },
  {
   "cell_type": "markdown",
   "metadata": {},
   "source": [
    "## compact\n",
    "\n",
    "Removes falsy elements from a list. You're better off doing this natively, with `filter`."
   ]
  },
  {
   "cell_type": "code",
   "execution_count": 5,
   "metadata": {
    "scrolled": true
   },
   "outputs": [
    {
     "data": {
      "text/plain": [
       "[ 'a', 'b' ]"
      ]
     },
     "execution_count": 5,
     "metadata": {},
     "output_type": "execute_result"
    }
   ],
   "source": [
    "_.compact(['a', 'b', null])"
   ]
  },
  {
   "cell_type": "code",
   "execution_count": 76,
   "metadata": {},
   "outputs": [],
   "source": [
    "function compact(vals) {\n",
    "    return vals.filter(v => v)\n",
    "}"
   ]
  },
  {
   "cell_type": "code",
   "execution_count": 77,
   "metadata": {},
   "outputs": [
    {
     "data": {
      "text/plain": [
       "[ 'a', 'b' ]"
      ]
     },
     "execution_count": 77,
     "metadata": {},
     "output_type": "execute_result"
    }
   ],
   "source": [
    "compact(['a', 'b', null])"
   ]
  },
  {
   "cell_type": "markdown",
   "metadata": {},
   "source": [
    "## concat\n",
    "\n",
    "Contatenates lists of various sizes. The same as the native method, just pulled out to the top level, don't recommend."
   ]
  },
  {
   "cell_type": "code",
   "execution_count": 80,
   "metadata": {},
   "outputs": [
    {
     "data": {
      "text/plain": [
       "[ 'a', 'b', 'c', 'd' ]"
      ]
     },
     "execution_count": 80,
     "metadata": {},
     "output_type": "execute_result"
    }
   ],
   "source": [
    "_.concat('a', ['b', 'c'], ['d'])"
   ]
  },
  {
   "cell_type": "code",
   "execution_count": 91,
   "metadata": {},
   "outputs": [
    {
     "data": {
      "text/plain": [
       "[ 'a', 'b', 'c', 'd' ]"
      ]
     },
     "execution_count": 91,
     "metadata": {},
     "output_type": "execute_result"
    }
   ],
   "source": [
    "[].concat('a', ['b', 'c'], ['d'])"
   ]
  },
  {
   "cell_type": "markdown",
   "metadata": {},
   "source": [
    "## difference\n",
    "\n",
    "Set difference between the first array input and all of the rest of the array input. Useful."
   ]
  },
  {
   "cell_type": "code",
   "execution_count": 183,
   "metadata": {},
   "outputs": [
    {
     "data": {
      "text/plain": [
       "[ 1, 1 ]"
      ]
     },
     "execution_count": 183,
     "metadata": {},
     "output_type": "execute_result"
    }
   ],
   "source": [
    "_.difference([1, 1, 2], [2, 3, 4])"
   ]
  },
  {
   "cell_type": "code",
   "execution_count": 190,
   "metadata": {},
   "outputs": [],
   "source": [
    "function difference(target, ...other) {\n",
    "    const s = new Set(target);\n",
    "    [].concat(...other).forEach(v => s.delete(v));\n",
    "    return target.filter(t => s.has(t))\n",
    "}"
   ]
  },
  {
   "cell_type": "code",
   "execution_count": 193,
   "metadata": {},
   "outputs": [
    {
     "data": {
      "text/plain": [
       "[ 1 ]"
      ]
     },
     "execution_count": 193,
     "metadata": {},
     "output_type": "execute_result"
    }
   ],
   "source": [
    "difference([1, 2], [2, 3], [3, 4])"
   ]
  },
  {
   "cell_type": "code",
   "execution_count": 194,
   "metadata": {},
   "outputs": [
    {
     "data": {
      "text/plain": [
       "[ 1, 1 ]"
      ]
     },
     "execution_count": 194,
     "metadata": {},
     "output_type": "execute_result"
    }
   ],
   "source": [
    "difference([1, 1, 2], [2, 3], [3, 4])"
   ]
  },
  {
   "cell_type": "markdown",
   "metadata": {},
   "source": [
    "## differenceBy\n",
    "\n",
    "Set difference with a pre-comparator transform. Recommend using `differenceWith` instead."
   ]
  },
  {
   "cell_type": "code",
   "execution_count": 125,
   "metadata": {},
   "outputs": [
    {
     "data": {
      "text/plain": [
       "[ 1.2 ]"
      ]
     },
     "execution_count": 125,
     "metadata": {},
     "output_type": "execute_result"
    }
   ],
   "source": [
    "_.differenceBy([1.2, 2.1], [2.3, 3.1], Math.floor)"
   ]
  },
  {
   "cell_type": "markdown",
   "metadata": {},
   "source": [
    "## differenceWith\n",
    "\n",
    "Set difference with a custom comparator. Useful."
   ]
  },
  {
   "cell_type": "code",
   "execution_count": 163,
   "metadata": {},
   "outputs": [
    {
     "data": {
      "text/plain": [
       "[ 1 ]"
      ]
     },
     "execution_count": 163,
     "metadata": {},
     "output_type": "execute_result"
    }
   ],
   "source": [
    "_._.differenceWith([1, 2], [2, 3], \n",
    "                   (a, b) => a === b)"
   ]
  },
  {
   "cell_type": "code",
   "execution_count": 197,
   "metadata": {},
   "outputs": [],
   "source": [
    "function differenceWith(target, ...args) {\n",
    "    const resultset = new Set(target);\n",
    "    const other = new Set([].concat(...args.slice(0, args.length - 1)));\n",
    "    const comparator = args[args.length - 1];\n",
    "    \n",
    "    // Can be made better than O(n^2) by sorting and tracking indicial values.\n",
    "    // But this is easy-to-write.\n",
    "    resultset.forEach(t => {\n",
    "        other.forEach(o => {\n",
    "            comparator(t, o) ? resultset.delete(t) : null;\n",
    "        })\n",
    "    })\n",
    "    \n",
    "    return target.filter(t => resultset.has(t))\n",
    "}"
   ]
  },
  {
   "cell_type": "code",
   "execution_count": 198,
   "metadata": {},
   "outputs": [
    {
     "data": {
      "text/plain": [
       "[ 1 ]"
      ]
     },
     "execution_count": 198,
     "metadata": {},
     "output_type": "execute_result"
    }
   ],
   "source": [
    "differenceWith([1, 2], [2, 3], (a, b) => a === b)"
   ]
  },
  {
   "cell_type": "code",
   "execution_count": 199,
   "metadata": {},
   "outputs": [
    {
     "data": {
      "text/plain": [
       "[ 1, 1 ]"
      ]
     },
     "execution_count": 199,
     "metadata": {},
     "output_type": "execute_result"
    }
   ],
   "source": [
    "differenceWith([1, 1, 2], [2, 3], (a, b) => a === b)"
   ]
  },
  {
   "cell_type": "markdown",
   "metadata": {},
   "source": [
    "## fill\n",
    "\n",
    "Fills values between a start and end index. Useless, copies an existing array method."
   ]
  },
  {
   "cell_type": "code",
   "execution_count": 202,
   "metadata": {},
   "outputs": [
    {
     "data": {
      "text/plain": [
       "[ 1, '*', '*', '*', 5 ]"
      ]
     },
     "execution_count": 202,
     "metadata": {},
     "output_type": "execute_result"
    }
   ],
   "source": [
    "_.fill([1, 2, 3, 4, 5], \"*\", start=1, end=4)"
   ]
  },
  {
   "cell_type": "code",
   "execution_count": 259,
   "metadata": {},
   "outputs": [],
   "source": [
    "function fill(arr, value, start=0, end=arr.length) {\n",
    "    return arr.map((prior, i) => (start <= i) & (i < end) ? value : prior);\n",
    "}"
   ]
  },
  {
   "cell_type": "code",
   "execution_count": 262,
   "metadata": {},
   "outputs": [
    {
     "data": {
      "text/plain": [
       "[ 1, '*', '*', '*', 5 ]"
      ]
     },
     "execution_count": 262,
     "metadata": {},
     "output_type": "execute_result"
    }
   ],
   "source": [
    "[1, 2, 3, 4, 5].fill(\"*\", 1, 4)"
   ]
  },
  {
   "cell_type": "markdown",
   "metadata": {},
   "source": [
    "## find, findIndex, and findLastIndex\n",
    "\n",
    "Also copy existing array methods. The last one is just `reverse`, *then* `findIndex`."
   ]
  },
  {
   "cell_type": "code",
   "execution_count": 265,
   "metadata": {},
   "outputs": [
    {
     "data": {
      "text/plain": [
       "{ foo: 2 }"
      ]
     },
     "execution_count": 265,
     "metadata": {},
     "output_type": "execute_result"
    }
   ],
   "source": [
    "[1, 2, {foo: 2}, 4].find(v => v.foo === 2)"
   ]
  },
  {
   "cell_type": "code",
   "execution_count": 266,
   "metadata": {},
   "outputs": [
    {
     "data": {
      "text/plain": [
       "2"
      ]
     },
     "execution_count": 266,
     "metadata": {},
     "output_type": "execute_result"
    }
   ],
   "source": [
    "[1, 2, {foo: 2}, 4].findIndex(v => v.foo === 2)"
   ]
  },
  {
   "cell_type": "code",
   "execution_count": 270,
   "metadata": {},
   "outputs": [
    {
     "data": {
      "text/plain": [
       "2"
      ]
     },
     "execution_count": 270,
     "metadata": {},
     "output_type": "execute_result"
    }
   ],
   "source": [
    "[{foo: 2}, {foo: 2}, 3, 4].reverse().findIndex(v => v.foo === 2)"
   ]
  },
  {
   "cell_type": "markdown",
   "metadata": {},
   "source": [
    "## flatten, flattenDeep, flattenDepth\n",
    "\n",
    "The latter is worse than the native `concat`, whilst the former two are useful. The last one has a limit on how far it will unfurl the array."
   ]
  },
  {
   "cell_type": "code",
   "execution_count": 271,
   "metadata": {},
   "outputs": [
    {
     "data": {
      "text/plain": [
       "[ 1, 2, 3 ]"
      ]
     },
     "execution_count": 271,
     "metadata": {},
     "output_type": "execute_result"
    }
   ],
   "source": [
    "_.concat([1], [2], [3])"
   ]
  },
  {
   "cell_type": "code",
   "execution_count": 273,
   "metadata": {},
   "outputs": [
    {
     "data": {
      "text/plain": [
       "[ 1, 2, 3 ]"
      ]
     },
     "execution_count": 273,
     "metadata": {},
     "output_type": "execute_result"
    }
   ],
   "source": [
    "_.flatten([[1], [2], [3]])"
   ]
  },
  {
   "cell_type": "code",
   "execution_count": 276,
   "metadata": {},
   "outputs": [
    {
     "data": {
      "text/plain": [
       "[ 1, 2, 3 ]"
      ]
     },
     "execution_count": 276,
     "metadata": {},
     "output_type": "execute_result"
    }
   ],
   "source": [
    "_.flattenDeep([[1], [[[[[[2]]]]]], [3]])"
   ]
  },
  {
   "cell_type": "code",
   "execution_count": 283,
   "metadata": {},
   "outputs": [
    {
     "data": {
      "text/plain": [
       "[ 1, [ [ 2 ] ], 3 ]"
      ]
     },
     "execution_count": 283,
     "metadata": {},
     "output_type": "execute_result"
    }
   ],
   "source": [
    "_.flattenDepth([[1], [[[[[[2]]]]]], [3]], 4)"
   ]
  },
  {
   "cell_type": "markdown",
   "metadata": {},
   "source": [
    "## fromPairs\n",
    "\n",
    "Converts between key-value pair array and object. Useful, but this is such a rarely used, easy-to-write function that I doubt I'll remember to use this func."
   ]
  },
  {
   "cell_type": "code",
   "execution_count": 284,
   "metadata": {},
   "outputs": [
    {
     "data": {
      "text/plain": [
       "{ a: 1, b: 2 }"
      ]
     },
     "execution_count": 284,
     "metadata": {},
     "output_type": "execute_result"
    }
   ],
   "source": [
    "_.fromPairs([['a', 1], ['b', 2]]);"
   ]
  },
  {
   "cell_type": "code",
   "execution_count": 336,
   "metadata": {},
   "outputs": [],
   "source": [
    "function fromPairs(pairs) {\n",
    "    let result = {}\n",
    "    pairs.forEach(pair => result[pair[0]] = pair[1]);\n",
    "    return result;\n",
    "}"
   ]
  },
  {
   "cell_type": "code",
   "execution_count": 337,
   "metadata": {},
   "outputs": [
    {
     "data": {
      "text/plain": [
       "{ a: 1, b: 2 }"
      ]
     },
     "execution_count": 337,
     "metadata": {},
     "output_type": "execute_result"
    }
   ],
   "source": [
    "fromPairs([['a', 1], ['b', 2]]);"
   ]
  },
  {
   "cell_type": "markdown",
   "metadata": {},
   "source": [
    "## intersection and intersectionWith\n",
    "\n",
    "Generates a list of unique values included in all arrays. Amazing this isn't a JS built-in, but it's not. Extremely useful, obviously."
   ]
  },
  {
   "cell_type": "code",
   "execution_count": 339,
   "metadata": {},
   "outputs": [
    {
     "data": {
      "text/plain": [
       "[ 2, 3 ]"
      ]
     },
     "execution_count": 339,
     "metadata": {},
     "output_type": "execute_result"
    }
   ],
   "source": [
    "_.intersection([2, 1, 3], [2, 3])"
   ]
  },
  {
   "cell_type": "code",
   "execution_count": 403,
   "metadata": {},
   "outputs": [],
   "source": [
    "function intersection(...arrs) {\n",
    "    function pairwise_intersection(a, b) { return new Set([...a].filter(v => b.has(v))) }\n",
    "    \n",
    "    let result = new Set(arrs[0]);\n",
    "    for (b_idx of _.range(1, arrs.length)) {\n",
    "        let b = new Set(arrs[b_idx]);\n",
    "        result = pairwise_intersection(result, b);\n",
    "    }\n",
    "    \n",
    "    return result;\n",
    "}"
   ]
  },
  {
   "cell_type": "code",
   "execution_count": 407,
   "metadata": {},
   "outputs": [
    {
     "data": {
      "text/plain": [
       "[ { x: 1, y: 2 } ]"
      ]
     },
     "execution_count": 407,
     "metadata": {},
     "output_type": "execute_result"
    }
   ],
   "source": [
    "var objects = [{ 'x': 1, 'y': 2 }, { 'x': 2, 'y': 1 }];\n",
    "var others = [{ 'x': 1, 'y': 1 }, { 'x': 1, 'y': 2 }];\n",
    " \n",
    "_.intersectionWith(objects, others, _.isEqual);"
   ]
  },
  {
   "cell_type": "markdown",
   "metadata": {},
   "source": [
    "## zip\n",
    "\n",
    "Not a built-in, unlike Python, and as always pretty freaking useful, so a must have from lodash."
   ]
  },
  {
   "cell_type": "code",
   "execution_count": 430,
   "metadata": {},
   "outputs": [],
   "source": [
    "function zip(...arrs) {\n",
    "    const len = Math.max(...arrs.map(arr => arr.length));\n",
    "    let result = [];\n",
    "    for (idx of [...Array(len).keys()]) {\n",
    "        result.push(arrs.map((arr) => arr[idx]));\n",
    "    }\n",
    "    return result;\n",
    "}"
   ]
  },
  {
   "cell_type": "code",
   "execution_count": 431,
   "metadata": {},
   "outputs": [
    {
     "data": {
      "text/plain": [
       "[ [ 1, 3 ], [ 2, 4 ] ]"
      ]
     },
     "execution_count": 431,
     "metadata": {},
     "output_type": "execute_result"
    }
   ],
   "source": [
    "zip([1, 2], [3, 4])"
   ]
  },
  {
   "cell_type": "markdown",
   "metadata": {},
   "source": [
    "## countby\n",
    "\n",
    "Basically `pd.DataFrame.value_counts`! Super useful."
   ]
  },
  {
   "cell_type": "code",
   "execution_count": 434,
   "metadata": {},
   "outputs": [
    {
     "data": {
      "text/plain": [
       "{ '4': 1, '6': 2 }"
      ]
     },
     "execution_count": 434,
     "metadata": {},
     "output_type": "execute_result"
    }
   ],
   "source": [
    "_.countBy([6, 4, 6], Math.floor);"
   ]
  },
  {
   "cell_type": "code",
   "execution_count": 433,
   "metadata": {},
   "outputs": [
    {
     "data": {
      "text/plain": [
       "{ '4': 1, '6': 2 }"
      ]
     },
     "execution_count": 433,
     "metadata": {},
     "output_type": "execute_result"
    }
   ],
   "source": [
    "_.countBy([6.1, 4.2, 6.3], Math.floor);"
   ]
  },
  {
   "cell_type": "code",
   "execution_count": 468,
   "metadata": {},
   "outputs": [],
   "source": [
    "function countBy(arr, interatee=v => v) {\n",
    "    let result = {};\n",
    "    let existing = new Set();\n",
    "    arr.forEach(v => {\n",
    "        if (existing.has(v)) {\n",
    "            result[v] += 1;\n",
    "        } else {\n",
    "            existing.add(v);\n",
    "            result[v] = 1;\n",
    "        }\n",
    "    });\n",
    "    return result\n",
    "}"
   ]
  },
  {
   "cell_type": "code",
   "execution_count": 470,
   "metadata": {},
   "outputs": [
    {
     "data": {
      "text/plain": [
       "{ '4': 1, '6': 3 }"
      ]
     },
     "execution_count": 470,
     "metadata": {},
     "output_type": "execute_result"
    }
   ],
   "source": [
    "countBy([6, 4, 6, 6], Math.floor)"
   ]
  },
  {
   "cell_type": "markdown",
   "metadata": {},
   "source": [
    "## find\n",
    "\n",
    "Just a copy of the `find` built-in."
   ]
  },
  {
   "cell_type": "code",
   "execution_count": 4,
   "metadata": {},
   "outputs": [
    {
     "data": {
      "text/plain": [
       "{ a: 2, b: 3 }"
      ]
     },
     "execution_count": 4,
     "metadata": {},
     "output_type": "execute_result"
    }
   ],
   "source": [
    "_.find([{'a': 1, 'b': 2}, {'a': 2, 'b': 3}, {'a': 2, 'b': 4}], obj => obj.a === 2)"
   ]
  },
  {
   "cell_type": "code",
   "execution_count": 5,
   "metadata": {},
   "outputs": [],
   "source": [
    "function find(values, predicate=v => v) {\n",
    "    let i = 0;\n",
    "    while (i < values.length) {\n",
    "        if (predicate(values[i])) { return values[i] }\n",
    "        i += 1;\n",
    "    }\n",
    "}"
   ]
  },
  {
   "cell_type": "code",
   "execution_count": 6,
   "metadata": {},
   "outputs": [
    {
     "data": {
      "text/plain": [
       "{ a: 2, b: 3 }"
      ]
     },
     "execution_count": 6,
     "metadata": {},
     "output_type": "execute_result"
    }
   ],
   "source": [
    "find([{'a': 1, 'b': 2}, {'a': 2, 'b': 3}, {'a': 2, 'b': 4}], obj => obj.a === 2)"
   ]
  },
  {
   "cell_type": "code",
   "execution_count": 7,
   "metadata": {},
   "outputs": [
    {
     "data": {
      "text/plain": [
       "{ a: 2, b: 3 }"
      ]
     },
     "execution_count": 7,
     "metadata": {},
     "output_type": "execute_result"
    }
   ],
   "source": [
    "[{'a': 1, 'b': 2}, {'a': 2, 'b': 3}, {'a': 2, 'b': 4}].find(obj => obj.a === 2)"
   ]
  },
  {
   "cell_type": "markdown",
   "metadata": {},
   "source": [
    "## groupBy\n",
    "\n",
    "Just like a `pandas` `groupby`!"
   ]
  },
  {
   "cell_type": "code",
   "execution_count": 8,
   "metadata": {},
   "outputs": [
    {
     "data": {
      "text/plain": [
       "{ '3': [ 'one', 'two' ], '5': [ 'three' ] }"
      ]
     },
     "execution_count": 8,
     "metadata": {},
     "output_type": "execute_result"
    }
   ],
   "source": [
    "_.groupBy(['one', 'two', 'three'], v => v.length);"
   ]
  },
  {
   "cell_type": "markdown",
   "metadata": {},
   "source": [
    "## keyBy\n",
    "\n",
    "Transforms an array into a keyed map, using some key-defining function. Sometimes useful."
   ]
  },
  {
   "cell_type": "code",
   "execution_count": 11,
   "metadata": {},
   "outputs": [
    {
     "data": {
      "text/plain": [
       "{ left: { dir: 'left', code: 97 },\n",
       "  right: { dir: 'right', code: 100 } }"
      ]
     },
     "execution_count": 11,
     "metadata": {},
     "output_type": "execute_result"
    }
   ],
   "source": [
    "var array = [\n",
    "  { 'dir': 'left', 'code': 97 },\n",
    "  { 'dir': 'right', 'code': 100 }\n",
    "];\n",
    "\n",
    "_.keyBy(array, obj => obj.dir);"
   ]
  },
  {
   "cell_type": "code",
   "execution_count": 29,
   "metadata": {},
   "outputs": [],
   "source": [
    "function keyBy(arr, iteratee=v => v) {\n",
    "    let result = {};\n",
    "    arr.forEach(v => { \n",
    "        let k = iteratee(v); \n",
    "        result[k] = v;\n",
    "    });\n",
    "    return result;\n",
    "}"
   ]
  },
  {
   "cell_type": "code",
   "execution_count": 30,
   "metadata": {},
   "outputs": [
    {
     "data": {
      "text/plain": [
       "{ left: { dir: 'left', code: 97 },\n",
       "  right: { dir: 'right', code: 100 } }"
      ]
     },
     "execution_count": 30,
     "metadata": {},
     "output_type": "execute_result"
    }
   ],
   "source": [
    "var array = [\n",
    "  { 'dir': 'left', 'code': 97 },\n",
    "  { 'dir': 'right', 'code': 100 }\n",
    "];\n",
    " \n",
    "keyBy(array, obj => obj.dir);"
   ]
  },
  {
   "cell_type": "markdown",
   "metadata": {},
   "source": [
    "## partition\n",
    "\n",
    "Partitions a list into two parts using some predicate. Sometimes useful, but easy to implement on your own."
   ]
  },
  {
   "cell_type": "code",
   "execution_count": 31,
   "metadata": {},
   "outputs": [
    {
     "data": {
      "text/plain": [
       "[ [ { user: 'fred', age: 40, active: true } ],\n",
       "  [ { user: 'barney', age: 36, active: false },\n",
       "    { user: 'pebbles', age: 1, active: false } ] ]"
      ]
     },
     "execution_count": 31,
     "metadata": {},
     "output_type": "execute_result"
    }
   ],
   "source": [
    "var users = [\n",
    "  { 'user': 'barney',  'age': 36, 'active': false },\n",
    "  { 'user': 'fred',    'age': 40, 'active': true },\n",
    "  { 'user': 'pebbles', 'age': 1,  'active': false }\n",
    "];\n",
    " \n",
    "_.partition(users, function(o) { return o.active; });"
   ]
  },
  {
   "cell_type": "code",
   "execution_count": 34,
   "metadata": {},
   "outputs": [],
   "source": [
    "function partition(arr, predicate=v => v) {\n",
    "    let result = [[], []];\n",
    "    arr.forEach(v => predicate(v) ? result[0].push(v) : result[1].push(v));\n",
    "    return result\n",
    "}"
   ]
  },
  {
   "cell_type": "code",
   "execution_count": 35,
   "metadata": {},
   "outputs": [
    {
     "data": {
      "text/plain": [
       "[ [ { user: 'fred', age: 40, active: true } ],\n",
       "  [ { user: 'barney', age: 36, active: false },\n",
       "    { user: 'pebbles', age: 1, active: false } ] ]"
      ]
     },
     "execution_count": 35,
     "metadata": {},
     "output_type": "execute_result"
    }
   ],
   "source": [
    "partition(users, function(o) { return o.active; });"
   ]
  }
 ],
 "metadata": {
  "kernelspec": {
   "display_name": "Javascript (Node.js)",
   "language": "javascript",
   "name": "javascript"
  },
  "language_info": {
   "file_extension": ".js",
   "mimetype": "application/javascript",
   "name": "javascript",
   "version": "8.9.4"
  }
 },
 "nbformat": 4,
 "nbformat_minor": 2
}
