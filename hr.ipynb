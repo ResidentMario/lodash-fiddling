{
 "cells": [
  {
   "cell_type": "code",
   "execution_count": 1,
   "metadata": {},
   "outputs": [
    {
     "data": {
      "text/plain": [
       "null"
      ]
     },
     "execution_count": 1,
     "metadata": {},
     "output_type": "execute_result"
    }
   ],
   "source": [
    "_ = require('lodash');\n",
    "null"
   ]
  },
  {
   "cell_type": "code",
   "execution_count": 2,
   "metadata": {},
   "outputs": [],
   "source": [
    "function diagonalDifference(a) {\n",
    "    const len = a.length;\n",
    "    let primary = [...Array(len).keys()].map(k => a[k][k]).reduce((a, b) => a + b);\n",
    "    let secondary = [...Array(len).keys()].map(k => a[k][len - 1 - k]).reduce((a, b) => a + b);\n",
    "    return Math.abs(primary - secondary);\n",
    "}"
   ]
  },
  {
   "cell_type": "code",
   "execution_count": 3,
   "metadata": {},
   "outputs": [
    {
     "data": {
      "text/plain": [
       "15"
      ]
     },
     "execution_count": 3,
     "metadata": {},
     "output_type": "execute_result"
    }
   ],
   "source": [
    "diagonalDifference([[11, 2, 4], [4, 5, 6], [10, 8, -12]])"
   ]
  },
  {
   "cell_type": "code",
   "execution_count": 4,
   "metadata": {},
   "outputs": [],
   "source": [
    "function plusMinus(arr) {\n",
    "    let [positive, negative, zero] = [0, 0, 0];\n",
    "    arr.forEach(int => {\n",
    "        if (int > 0) { positive += 1 } else if (int < 0) { negative += 1 } else { zero += 1 }\n",
    "    });\n",
    "    [positive, negative, zero] = [positive / arr.length, negative / arr.length, zero / arr.length];\n",
    "    return [positive, negative, zero];\n",
    "}"
   ]
  },
  {
   "cell_type": "code",
   "execution_count": 5,
   "metadata": {
    "scrolled": false
   },
   "outputs": [
    {
     "data": {
      "text/plain": [
       "[ 0.25, 0.25, 0.5 ]"
      ]
     },
     "execution_count": 5,
     "metadata": {},
     "output_type": "execute_result"
    }
   ],
   "source": [
    "plusMinus([1, -1, 0, 0])"
   ]
  },
  {
   "cell_type": "code",
   "execution_count": 6,
   "metadata": {},
   "outputs": [],
   "source": [
    "function staircase(n) {\n",
    "    let lines = []\n",
    "    for (i of [...Array(n)].keys()) {\n",
    "        let [spaces, steps] = [Array(n - i - 1).fill(' '), Array(i + 1).fill('#')];\n",
    "        let level = spaces.join(\"\") + steps.join(\"\")\n",
    "        lines.push(level)\n",
    "    }\n",
    "    for (line of lines) { console.log(line); }\n",
    "}"
   ]
  },
  {
   "cell_type": "code",
   "execution_count": 7,
   "metadata": {},
   "outputs": [
    {
     "name": "stdout",
     "output_type": "stream",
     "text": [
      "    #\n",
      "   ##\n",
      "  ###\n",
      " ####\n",
      "#####\n"
     ]
    }
   ],
   "source": [
    "staircase(5)"
   ]
  },
  {
   "cell_type": "code",
   "execution_count": 8,
   "metadata": {},
   "outputs": [],
   "source": [
    "function miniMaxSum(arr) {\n",
    "    arr = arr.sort((a, b) => a > b);\n",
    "    console.log(_.slice(arr, 0, 4).reduce((a, b) => a + b), _.slice(arr, 1, 5).reduce((a, b) => a + b))\n",
    "}"
   ]
  },
  {
   "cell_type": "code",
   "execution_count": 9,
   "metadata": {},
   "outputs": [
    {
     "name": "stdout",
     "output_type": "stream",
     "text": [
      "155 1776\n"
     ]
    }
   ],
   "source": [
    "miniMaxSum([5, 10, 125, 15,1626])"
   ]
  },
  {
   "cell_type": "code",
   "execution_count": 10,
   "metadata": {},
   "outputs": [],
   "source": [
    "function birthdayCakeCandles(arr) {\n",
    "    let [maxval, idxs] = [0, []];\n",
    "    arr.forEach((v, i) => {\n",
    "        if (v > maxval) { maxval = v; idxs = [i]; }\n",
    "        else if (v === maxval) { idxs.push(i); }\n",
    "    })\n",
    "    return idxs.length;\n",
    "}"
   ]
  },
  {
   "cell_type": "code",
   "execution_count": 11,
   "metadata": {},
   "outputs": [
    {
     "data": {
      "text/plain": [
       "2"
      ]
     },
     "execution_count": 11,
     "metadata": {},
     "output_type": "execute_result"
    }
   ],
   "source": [
    "birthdayCakeCandles([3, 2, 1, 3])"
   ]
  },
  {
   "cell_type": "code",
   "execution_count": 12,
   "metadata": {},
   "outputs": [],
   "source": [
    "function timeConversion(s) {\n",
    "    let type = _.slice(s, s.length - 2).join(\"\")\n",
    "    let hours = +_.slice(s, 0, 2).join(\"\")\n",
    "    let minutes = +_.slice(s, 3, 5).join(\"\")\n",
    "    let seconds = +_.slice(s, 6, 8).join(\"\")\n",
    "    \n",
    "    if (type === \"PM\") { hours += 12; }\n",
    "    \n",
    "    hours = hours < 10 ? hours = \"0\" + hours.toString() : hours.toString();\n",
    "    minutes = minutes < 10 ? minutes = \"0\" + minutes.toString() : minutes.toString();\n",
    "    seconds = hours < 10 ? seconds = \"0\" + seconds.toString() : seconds.toString();\n",
    "    \n",
    "    if (hours === \"24\") { hours = \"00\"; }\n",
    "    \n",
    "    return [hours, minutes, seconds].join(\":\");\n",
    "}"
   ]
  },
  {
   "cell_type": "code",
   "execution_count": 13,
   "metadata": {},
   "outputs": [
    {
     "data": {
      "text/plain": [
       "'19:05:45'"
      ]
     },
     "execution_count": 13,
     "metadata": {},
     "output_type": "execute_result"
    }
   ],
   "source": [
    "timeConversion('07:05:45PM')"
   ]
  },
  {
   "cell_type": "code",
   "execution_count": 14,
   "metadata": {
    "scrolled": true
   },
   "outputs": [
    {
     "data": {
      "text/plain": [
       "'00:05:45'"
      ]
     },
     "execution_count": 14,
     "metadata": {},
     "output_type": "execute_result"
    }
   ],
   "source": [
    "timeConversion('12:05:45PM')"
   ]
  },
  {
   "cell_type": "code",
   "execution_count": 15,
   "metadata": {},
   "outputs": [],
   "source": [
    "function gradingStudents(grades) {\n",
    "    return grades.map(g => {\n",
    "        if (g < 38) { \n",
    "            return g; \n",
    "        } else {\n",
    "            return ((5 - g % 5) < 3) ? g + (5 - g % 5) : g;\n",
    "        }\n",
    "    });\n",
    "}"
   ]
  },
  {
   "cell_type": "code",
   "execution_count": 16,
   "metadata": {},
   "outputs": [
    {
     "data": {
      "text/plain": [
       "4"
      ]
     },
     "execution_count": 16,
     "metadata": {},
     "output_type": "execute_result"
    }
   ],
   "source": [
    "5 - 91 % 5"
   ]
  },
  {
   "cell_type": "code",
   "execution_count": 17,
   "metadata": {},
   "outputs": [
    {
     "data": {
      "text/plain": [
       "[ 11, 40, 40, 100 ]"
      ]
     },
     "execution_count": 17,
     "metadata": {},
     "output_type": "execute_result"
    }
   ],
   "source": [
    "gradingStudents([11, 38, 40, 98])"
   ]
  },
  {
   "cell_type": "code",
   "execution_count": 18,
   "metadata": {},
   "outputs": [],
   "source": [
    "function countApplesAndOranges(s, t, a, b, apples, oranges) {\n",
    "    function count_insiders(arr, lims) {\n",
    "        return arr.map(v => ((v >= lims[0]) & (v <= lims[1]))).filter(v => v).length;\n",
    "    }\n",
    "    \n",
    "    let apple_lims = [s - a, t - a];\n",
    "    let orange_lims = [s - b, t - b];\n",
    "    \n",
    "    let [apple_result, orange_result] = [\n",
    "        count_insiders(apples, apple_lims), count_insiders(oranges, orange_lims)\n",
    "    ]\n",
    "    \n",
    "    let result = [apple_result, orange_result];\n",
    "    console.log(result[0])\n",
    "    console.log(result[1])\n",
    "    \n",
    "}"
   ]
  },
  {
   "cell_type": "code",
   "execution_count": 19,
   "metadata": {},
   "outputs": [
    {
     "name": "stdout",
     "output_type": "stream",
     "text": [
      "1\n",
      "1\n"
     ]
    }
   ],
   "source": [
    "countApplesAndOranges(7, 11, 5, 15, [-2, 2, 1], [5, -6])"
   ]
  },
  {
   "cell_type": "code",
   "execution_count": 25,
   "metadata": {},
   "outputs": [],
   "source": [
    "function kangaroo(x1, v1, x2, v2) {\n",
    "    if (((x1 < x2) & (v1 <= v2)) | ((x2 < x1) & (v2 <= v1))) { return 'NO'; }\n",
    "    \n",
    "    let should_stop = (() => {\n",
    "        if (x1 > x2) { \n",
    "            return (pos1, pos2) => pos2 > pos1;\n",
    "        } else {\n",
    "            return (pos1, pos2) => pos1 > pos2;\n",
    "        }\n",
    "    })();\n",
    "    \n",
    "    let [p1, p2] = [x1, x2];\n",
    "    \n",
    "    while(!should_stop(p1, p2)) {\n",
    "        if (p1 === p2) { return 'YES'; }\n",
    "        [p1, p2] = [p1 + v1, p2 + v2];\n",
    "    }\n",
    "    return 'NO';\n",
    "}"
   ]
  },
  {
   "cell_type": "code",
   "execution_count": 26,
   "metadata": {
    "scrolled": true
   },
   "outputs": [
    {
     "data": {
      "text/plain": [
       "'NO'"
      ]
     },
     "execution_count": 26,
     "metadata": {},
     "output_type": "execute_result"
    }
   ],
   "source": [
    "kangaroo(43, 2, 70, 2)"
   ]
  },
  {
   "cell_type": "code",
   "execution_count": 57,
   "metadata": {},
   "outputs": [],
   "source": [
    "function getTotalX(a, b) {\n",
    "    let between_integer_lower_limit = Math.max(...a);\n",
    "    let between_integer_upper_limit = Math.min(...b);\n",
    "    \n",
    "    let c = 0;\n",
    "    for (n of _.range(between_integer_lower_limit, between_integer_upper_limit + 1)) {\n",
    "        if (a.every(v => n % v === 0) & (b.every(v => v % n === 0))) { c += 1 }\n",
    "    }\n",
    "    return c\n",
    "}"
   ]
  },
  {
   "cell_type": "code",
   "execution_count": 58,
   "metadata": {},
   "outputs": [
    {
     "data": {
      "text/plain": [
       "3"
      ]
     },
     "execution_count": 58,
     "metadata": {},
     "output_type": "execute_result"
    }
   ],
   "source": [
    "getTotalX([2, 4], [16, 32, 96])"
   ]
  },
  {
   "cell_type": "code",
   "execution_count": null,
   "metadata": {},
   "outputs": [],
   "source": []
  }
 ],
 "metadata": {
  "kernelspec": {
   "display_name": "Javascript (Node.js)",
   "language": "javascript",
   "name": "javascript"
  },
  "language_info": {
   "file_extension": ".js",
   "mimetype": "application/javascript",
   "name": "javascript",
   "version": "8.9.4"
  }
 },
 "nbformat": 4,
 "nbformat_minor": 2
}
